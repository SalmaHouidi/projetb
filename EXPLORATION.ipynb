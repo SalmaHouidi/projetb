{
 "cells": [
  {
   "cell_type": "code",
   "execution_count": 1,
   "id": "3fb9509d",
   "metadata": {},
   "outputs": [],
   "source": [
    "import pandas as pd\n",
    "import numpy as np\n",
    "import Exploration as e"
   ]
  },
  {
   "cell_type": "code",
   "execution_count": 2,
   "id": "72ed4592",
   "metadata": {},
   "outputs": [],
   "source": [
    "def read_data(path):\n",
    "    \"\"\"_summary_\n",
    "\n",
    "    Args:\n",
    "        path (_type_): path de mon data \n",
    "    \"\"\"\n",
    "    if path =='':\n",
    "        print('path incorrecte')\n",
    "    else:\n",
    "        data=pd.read_csv(path)\n",
    "    return data"
   ]
  },
  {
   "cell_type": "code",
   "execution_count": 3,
   "id": "6f939b9b",
   "metadata": {},
   "outputs": [],
   "source": [
    "data=read_data(e.PATH)\n",
    "schema=read_data(e.PATHSC)"
   ]
  },
  {
   "cell_type": "code",
   "execution_count": 4,
   "id": "86b465b4",
   "metadata": {},
   "outputs": [],
   "source": [
    "def check_rows_cols(num_rows, num_cols):\n",
    "    '''\n",
    "    INPUT:\n",
    "    num_rows - int the number of rows in df\n",
    "    num_cols - int the number of cols in df\n",
    "\n",
    "    This function will print a statement related to whether or not you provided the correct number of rows and columns of the dataset.\n",
    "    '''\n",
    "    if num_rows == e.num_rows:\n",
    "        print(\"Nice job there are {} rows in the dataset!\".format(num_rows))\n",
    "    else:\n",
    "        print(\"That doesn't look like what we were expecting for the number of rows.\")\n",
    "\n",
    "    if num_cols == e.num_cols:\n",
    "        print(\"Nice job there are {} columns in the dataset!\".format(num_cols))\n",
    "    else:\n",
    "        print(\"That doesn't look like what we were expecting for the number of columns.\")\n"
   ]
  },
  {
   "cell_type": "code",
   "execution_count": 5,
   "id": "6c44eeca",
   "metadata": {},
   "outputs": [
    {
     "name": "stdout",
     "output_type": "stream",
     "text": [
      "Nice job there are 19102 rows in the dataset!\n",
      "Nice job there are 154 columns in the dataset!\n"
     ]
    }
   ],
   "source": [
    "check_rows_cols(data.shape[0], data.shape[1])\n",
    "# rows for 0\n",
    "# columns for 1"
   ]
  },
  {
   "cell_type": "code",
   "execution_count": 6,
   "id": "97f2f2f7",
   "metadata": {},
   "outputs": [
    {
     "data": {
      "text/plain": [
       "Respondent                  0\n",
       "Professional                0\n",
       "ProgramHobby                0\n",
       "Country                     0\n",
       "University                  0\n",
       "                        ...  \n",
       "QuestionsInteresting     6366\n",
       "QuestionsConfusing       6396\n",
       "InterestedAnswers        6342\n",
       "Salary                  14093\n",
       "ExpectedSalary          18284\n",
       "Length: 154, dtype: int64"
      ]
     },
     "execution_count": 6,
     "metadata": {},
     "output_type": "execute_result"
    }
   ],
   "source": [
    "np.sum(data.isnull())"
   ]
  },
  {
   "cell_type": "code",
   "execution_count": 7,
   "id": "8ecefc43",
   "metadata": {},
   "outputs": [
    {
     "data": {
      "text/plain": [
       "Respondent               True\n",
       "Professional             True\n",
       "ProgramHobby             True\n",
       "Country                  True\n",
       "University               True\n",
       "                        ...  \n",
       "QuestionsInteresting    False\n",
       "QuestionsConfusing      False\n",
       "InterestedAnswers       False\n",
       "Salary                  False\n",
       "ExpectedSalary          False\n",
       "Length: 154, dtype: bool"
      ]
     },
     "execution_count": 7,
     "metadata": {},
     "output_type": "execute_result"
    }
   ],
   "source": [
    "np.sum(data.isnull())==0"
   ]
  },
  {
   "cell_type": "code",
   "execution_count": 8,
   "id": "8dc85fba",
   "metadata": {},
   "outputs": [
    {
     "data": {
      "text/plain": [
       "Index(['Respondent', 'Professional', 'ProgramHobby', 'Country', 'University',\n",
       "       'EmploymentStatus', 'FormalEducation'],\n",
       "      dtype='object')"
      ]
     },
     "execution_count": 8,
     "metadata": {},
     "output_type": "execute_result"
    }
   ],
   "source": [
    "data.columns[np.sum(data.isnull())==0]"
   ]
  },
  {
   "cell_type": "code",
   "execution_count": 14,
   "id": "cf31d66c",
   "metadata": {},
   "outputs": [
    {
     "data": {
      "text/html": [
       "<div>\n",
       "<style scoped>\n",
       "    .dataframe tbody tr th:only-of-type {\n",
       "        vertical-align: middle;\n",
       "    }\n",
       "\n",
       "    .dataframe tbody tr th {\n",
       "        vertical-align: top;\n",
       "    }\n",
       "\n",
       "    .dataframe thead th {\n",
       "        text-align: right;\n",
       "    }\n",
       "</style>\n",
       "<table border=\"1\" class=\"dataframe\">\n",
       "  <thead>\n",
       "    <tr style=\"text-align: right;\">\n",
       "      <th></th>\n",
       "      <th>Column</th>\n",
       "      <th>Question</th>\n",
       "    </tr>\n",
       "  </thead>\n",
       "  <tbody>\n",
       "    <tr>\n",
       "      <th>0</th>\n",
       "      <td>Respondent</td>\n",
       "      <td>Respondent ID number</td>\n",
       "    </tr>\n",
       "    <tr>\n",
       "      <th>1</th>\n",
       "      <td>Professional</td>\n",
       "      <td>Which of the following best describes you?</td>\n",
       "    </tr>\n",
       "    <tr>\n",
       "      <th>2</th>\n",
       "      <td>ProgramHobby</td>\n",
       "      <td>Do you program as a hobby or contribute to ope...</td>\n",
       "    </tr>\n",
       "    <tr>\n",
       "      <th>3</th>\n",
       "      <td>Country</td>\n",
       "      <td>In which country do you currently live?</td>\n",
       "    </tr>\n",
       "    <tr>\n",
       "      <th>4</th>\n",
       "      <td>University</td>\n",
       "      <td>Are you currently enrolled in a formal, degree...</td>\n",
       "    </tr>\n",
       "    <tr>\n",
       "      <th>5</th>\n",
       "      <td>EmploymentStatus</td>\n",
       "      <td>Which of the following best describes your cur...</td>\n",
       "    </tr>\n",
       "    <tr>\n",
       "      <th>6</th>\n",
       "      <td>FormalEducation</td>\n",
       "      <td>Which of the following best describes the high...</td>\n",
       "    </tr>\n",
       "    <tr>\n",
       "      <th>7</th>\n",
       "      <td>MajorUndergrad</td>\n",
       "      <td>Which of the following best describes your mai...</td>\n",
       "    </tr>\n",
       "    <tr>\n",
       "      <th>8</th>\n",
       "      <td>HomeRemote</td>\n",
       "      <td>How often do you work from home or remotely?</td>\n",
       "    </tr>\n",
       "    <tr>\n",
       "      <th>9</th>\n",
       "      <td>CompanySize</td>\n",
       "      <td>In terms of the number of employees, how large...</td>\n",
       "    </tr>\n",
       "  </tbody>\n",
       "</table>\n",
       "</div>"
      ],
      "text/plain": [
       "             Column                                           Question\n",
       "0        Respondent                               Respondent ID number\n",
       "1      Professional         Which of the following best describes you?\n",
       "2      ProgramHobby  Do you program as a hobby or contribute to ope...\n",
       "3           Country            In which country do you currently live?\n",
       "4        University  Are you currently enrolled in a formal, degree...\n",
       "5  EmploymentStatus  Which of the following best describes your cur...\n",
       "6   FormalEducation  Which of the following best describes the high...\n",
       "7    MajorUndergrad  Which of the following best describes your mai...\n",
       "8        HomeRemote       How often do you work from home or remotely?\n",
       "9       CompanySize  In terms of the number of employees, how large..."
      ]
     },
     "execution_count": 14,
     "metadata": {},
     "output_type": "execute_result"
    }
   ],
   "source": [
    "schema.head(10)"
   ]
  },
  {
   "cell_type": "code",
   "execution_count": 22,
   "id": "1aa7ea63",
   "metadata": {},
   "outputs": [
    {
     "data": {
      "text/plain": [
       "'Are you currently enrolled in a formal, degree-granting college or university program?'"
      ]
     },
     "execution_count": 22,
     "metadata": {},
     "output_type": "execute_result"
    }
   ],
   "source": [
    "list(schema[schema['Column'] == 'University']['Question'])[0]"
   ]
  },
  {
   "cell_type": "code",
   "execution_count": 28,
   "id": "90594e26",
   "metadata": {},
   "outputs": [
    {
     "data": {
      "text/html": [
       "<div>\n",
       "<style scoped>\n",
       "    .dataframe tbody tr th:only-of-type {\n",
       "        vertical-align: middle;\n",
       "    }\n",
       "\n",
       "    .dataframe tbody tr th {\n",
       "        vertical-align: top;\n",
       "    }\n",
       "\n",
       "    .dataframe thead th {\n",
       "        text-align: right;\n",
       "    }\n",
       "</style>\n",
       "<table border=\"1\" class=\"dataframe\">\n",
       "  <thead>\n",
       "    <tr style=\"text-align: right;\">\n",
       "      <th></th>\n",
       "      <th>Column</th>\n",
       "      <th>Question</th>\n",
       "    </tr>\n",
       "  </thead>\n",
       "  <tbody>\n",
       "    <tr>\n",
       "      <th>0</th>\n",
       "      <td>Respondent</td>\n",
       "      <td>Respondent ID number</td>\n",
       "    </tr>\n",
       "    <tr>\n",
       "      <th>1</th>\n",
       "      <td>Professional</td>\n",
       "      <td>Which of the following best describes you?</td>\n",
       "    </tr>\n",
       "    <tr>\n",
       "      <th>2</th>\n",
       "      <td>ProgramHobby</td>\n",
       "      <td>Do you program as a hobby or contribute to ope...</td>\n",
       "    </tr>\n",
       "    <tr>\n",
       "      <th>3</th>\n",
       "      <td>Country</td>\n",
       "      <td>In which country do you currently live?</td>\n",
       "    </tr>\n",
       "    <tr>\n",
       "      <th>4</th>\n",
       "      <td>University</td>\n",
       "      <td>Are you currently enrolled in a formal, degree...</td>\n",
       "    </tr>\n",
       "  </tbody>\n",
       "</table>\n",
       "</div>"
      ],
      "text/plain": [
       "         Column                                           Question\n",
       "0    Respondent                               Respondent ID number\n",
       "1  Professional         Which of the following best describes you?\n",
       "2  ProgramHobby  Do you program as a hobby or contribute to ope...\n",
       "3       Country            In which country do you currently live?\n",
       "4    University  Are you currently enrolled in a formal, degree..."
      ]
     },
     "execution_count": 28,
     "metadata": {},
     "output_type": "execute_result"
    }
   ],
   "source": [
    "schema.head()"
   ]
  },
  {
   "cell_type": "code",
   "execution_count": 31,
   "id": "d7481089",
   "metadata": {},
   "outputs": [],
   "source": [
    "def get_description(schema, column_name):\n",
    "    '''\n",
    "    INPUT - schema - pandas dataframe with the schema of the developers survey\n",
    "            column_name - string - the name of the column you would like to know about\n",
    "    OUTPUT -\n",
    "            desc - string - the description of the column\n",
    "    '''\n",
    "    desc = list(schema[schema['Column'] == column_name]['Question'])[0]\n",
    "    return desc\n",
    "\n",
    "descrips = set(get_description(schema, col) for col in data.columns)"
   ]
  },
  {
   "cell_type": "code",
   "execution_count": null,
   "id": "2a10d0ae",
   "metadata": {},
   "outputs": [],
   "source": []
  },
  {
   "cell_type": "code",
   "execution_count": 45,
   "id": "03bb62c0",
   "metadata": {},
   "outputs": [
    {
     "data": {
      "text/plain": [
       "[True]"
      ]
     },
     "execution_count": 45,
     "metadata": {},
     "output_type": "execute_result"
    }
   ],
   "source": [
    "\n",
    "['CousinEducation'in list(data.columns)]"
   ]
  },
  {
   "cell_type": "code",
   "execution_count": 32,
   "id": "4f5efc4d",
   "metadata": {},
   "outputs": [
    {
     "data": {
      "text/html": [
       "<div>\n",
       "<style scoped>\n",
       "    .dataframe tbody tr th:only-of-type {\n",
       "        vertical-align: middle;\n",
       "    }\n",
       "\n",
       "    .dataframe tbody tr th {\n",
       "        vertical-align: top;\n",
       "    }\n",
       "\n",
       "    .dataframe thead th {\n",
       "        text-align: right;\n",
       "    }\n",
       "</style>\n",
       "<table border=\"1\" class=\"dataframe\">\n",
       "  <thead>\n",
       "    <tr style=\"text-align: right;\">\n",
       "      <th></th>\n",
       "      <th>method</th>\n",
       "      <th>count</th>\n",
       "    </tr>\n",
       "  </thead>\n",
       "  <tbody>\n",
       "    <tr>\n",
       "      <th>0</th>\n",
       "      <td>Take online courses; Buy books and work throug...</td>\n",
       "      <td>192</td>\n",
       "    </tr>\n",
       "    <tr>\n",
       "      <th>1</th>\n",
       "      <td>None of these</td>\n",
       "      <td>167</td>\n",
       "    </tr>\n",
       "    <tr>\n",
       "      <th>2</th>\n",
       "      <td>Take online courses</td>\n",
       "      <td>158</td>\n",
       "    </tr>\n",
       "    <tr>\n",
       "      <th>3</th>\n",
       "      <td>Take online courses; Part-time/evening courses...</td>\n",
       "      <td>140</td>\n",
       "    </tr>\n",
       "    <tr>\n",
       "      <th>4</th>\n",
       "      <td>Take online courses; Bootcamp; Part-time/eveni...</td>\n",
       "      <td>132</td>\n",
       "    </tr>\n",
       "    <tr>\n",
       "      <th>...</th>\n",
       "      <td>...</td>\n",
       "      <td>...</td>\n",
       "    </tr>\n",
       "    <tr>\n",
       "      <th>596</th>\n",
       "      <td>Return to college; Get a job as a QA tester; P...</td>\n",
       "      <td>1</td>\n",
       "    </tr>\n",
       "    <tr>\n",
       "      <th>597</th>\n",
       "      <td>Master's degree; Participate in online coding ...</td>\n",
       "      <td>1</td>\n",
       "    </tr>\n",
       "    <tr>\n",
       "      <th>598</th>\n",
       "      <td>Participate in hackathons; Participate in onli...</td>\n",
       "      <td>1</td>\n",
       "    </tr>\n",
       "    <tr>\n",
       "      <th>599</th>\n",
       "      <td>Master's degree; Get a job as a QA tester; Par...</td>\n",
       "      <td>1</td>\n",
       "    </tr>\n",
       "    <tr>\n",
       "      <th>600</th>\n",
       "      <td>Contribute to open source; Part-time/evening c...</td>\n",
       "      <td>1</td>\n",
       "    </tr>\n",
       "  </tbody>\n",
       "</table>\n",
       "<p>601 rows × 2 columns</p>\n",
       "</div>"
      ],
      "text/plain": [
       "                                                method  count\n",
       "0    Take online courses; Buy books and work throug...    192\n",
       "1                                        None of these    167\n",
       "2                                  Take online courses    158\n",
       "3    Take online courses; Part-time/evening courses...    140\n",
       "4    Take online courses; Bootcamp; Part-time/eveni...    132\n",
       "..                                                 ...    ...\n",
       "596  Return to college; Get a job as a QA tester; P...      1\n",
       "597  Master's degree; Participate in online coding ...      1\n",
       "598  Participate in hackathons; Participate in onli...      1\n",
       "599  Master's degree; Get a job as a QA tester; Par...      1\n",
       "600  Contribute to open source; Part-time/evening c...      1\n",
       "\n",
       "[601 rows x 2 columns]"
      ]
     },
     "execution_count": 32,
     "metadata": {},
     "output_type": "execute_result"
    }
   ],
   "source": [
    "study=data['CousinEducation'].value_counts().reset_index()\n",
    "study.rename(columns={'index':'method','CousinEducation':'count'},inplace=True)\n",
    "study"
   ]
  },
  {
   "cell_type": "code",
   "execution_count": null,
   "id": "a936dd5e",
   "metadata": {},
   "outputs": [],
   "source": [
    "possible_vals = [\"Take online courses\", \"Buy books and work through the exercises\", \n",
    "                 \"None of these\", \"Part-time/evening courses\", \"Return to college\",\n",
    "                 \"Contribute to open source\", \"Conferences/meet-ups\", \"Bootcamp\",\n",
    "                 \"Get a job as a QA tester\", \"Participate in online coding competitions\",\n",
    "                 \"Master's degree\", \"Participate in hackathons\", \"Other\"]\n",
    "\n",
    "\n"
   ]
  },
  {
   "cell_type": "code",
   "execution_count": null,
   "id": "9ef32d96",
   "metadata": {},
   "outputs": [],
   "source": [
    "higher_ed = lambda x: 1 if x in (\"Master's degree\", \"Doctoral\", \"Professional degree\") else 0\n",
    "\n",
    "data['HigherEd'] = data[\"FormalEducation\"].apply(higher_ed)\n",
    "higher_ed_perc = data['HigherEd'].mean()\n",
    "\n"
   ]
  },
  {
   "cell_type": "code",
   "execution_count": 17,
   "id": "d0a75e01",
   "metadata": {},
   "outputs": [
    {
     "data": {
      "text/plain": [
       "(19102, 154)"
      ]
     },
     "execution_count": 17,
     "metadata": {},
     "output_type": "execute_result"
    }
   ],
   "source": [
    "data.shape"
   ]
  },
  {
   "cell_type": "code",
   "execution_count": 38,
   "id": "9bfbdd34",
   "metadata": {},
   "outputs": [
    {
     "data": {
      "text/plain": [
       "<AxesSubplot:>"
      ]
     },
     "execution_count": 38,
     "metadata": {},
     "output_type": "execute_result"
    },
    {
     "data": {
      "image/png": "[encoded data removed]",
      "text/plain": [
       "<Figure size 432x288 with 1 Axes>"
      ]
     },
     "metadata": {
      "needs_background": "light"
     },
     "output_type": "display_data"
    }
   ],
   "source": [
    "# Provide a pandas series of the different Professional status values in the dataset. Store this pandas series in status_vals. If you are correct, you should see a bar chart of the proportion of individuals in each status.\n",
    "status_vals = data.Professional.value_counts()  # \"for categorical variables \"\n",
    "status_vals.plot(kind=\"bar\")\n",
    "## salma if you wanna with % only divide (status_vals//data.shape[0])\n"
   ]
  },
  {
   "cell_type": "code",
   "execution_count": 41,
   "id": "2a5e1e7f",
   "metadata": {},
   "outputs": [],
   "source": [
    "def most_missing_cols(data,per):\n",
    "    '''\n",
    "    INPUT:\n",
    "    data - ot=ur data \n",
    "    per  - a set of columns with more than 75% of the values in the column missing\n",
    "    This function will print set of columns with more than 75% of the values in the column missing\n",
    "    #Which columns had no missing values? Provide a set of column names that have no missing values.\n",
    "    '''\n",
    "    most_missing_cols=set(data.columns[data.isnull().mean()>per])\n",
    "    if len(most_missing_cols)== 0:\n",
    "        print(\"Nice job that looks right!\")\n",
    "    else:\n",
    "        print(\"There should be {} columns in your list and the columns are {}\".format(len(most_missing_cols),most_missing_cols))"
   ]
  },
  {
   "cell_type": "code",
   "execution_count": 42,
   "id": "2a6e4e30",
   "metadata": {},
   "outputs": [
    {
     "name": "stdout",
     "output_type": "stream",
     "text": [
      "There should be 14 columns in your list and the columns are {'ExCoderNotForMe', 'MobileDeveloperType', 'YearsCodedJobPast', 'ExCoder10Years', 'NonDeveloperType', 'ExCoderActive', 'ExCoderSkills', 'ExCoderBelonged', 'ExCoderWillNotCode', 'WebDeveloperType', 'TimeAfterBootcamp', 'ExCoderReturn', 'ExpectedSalary', 'ExCoderBalance'}\n"
     ]
    }
   ],
   "source": [
    "most_missing_cols(data,0.75)"
   ]
  },
  {
   "cell_type": "code",
   "execution_count": null,
   "id": "38dbe369",
   "metadata": {},
   "outputs": [],
   "source": [
    "# business questions :\n",
    "# 1/ how to enter the field \n",
    "# 2/ what are job placements and salary rates for bootcamps \n",
    "# 3/ what relates to salary\n",
    "# 4/ what relates to job satisfaction\n"
   ]
  },
  {
   "cell_type": "code",
   "execution_count": 4,
   "id": "31a44f53",
   "metadata": {},
   "outputs": [
    {
     "data": {
      "text/html": [
       "<div>\n",
       "<style scoped>\n",
       "    .dataframe tbody tr th:only-of-type {\n",
       "        vertical-align: middle;\n",
       "    }\n",
       "\n",
       "    .dataframe tbody tr th {\n",
       "        vertical-align: top;\n",
       "    }\n",
       "\n",
       "    .dataframe thead th {\n",
       "        text-align: right;\n",
       "    }\n",
       "</style>\n",
       "<table border=\"1\" class=\"dataframe\">\n",
       "  <thead>\n",
       "    <tr style=\"text-align: right;\">\n",
       "      <th></th>\n",
       "      <th>Column</th>\n",
       "      <th>Question</th>\n",
       "    </tr>\n",
       "  </thead>\n",
       "  <tbody>\n",
       "    <tr>\n",
       "      <th>0</th>\n",
       "      <td>Respondent</td>\n",
       "      <td>Respondent ID number</td>\n",
       "    </tr>\n",
       "    <tr>\n",
       "      <th>1</th>\n",
       "      <td>Professional</td>\n",
       "      <td>Which of the following best describes you?</td>\n",
       "    </tr>\n",
       "    <tr>\n",
       "      <th>2</th>\n",
       "      <td>ProgramHobby</td>\n",
       "      <td>Do you program as a hobby or contribute to ope...</td>\n",
       "    </tr>\n",
       "    <tr>\n",
       "      <th>3</th>\n",
       "      <td>Country</td>\n",
       "      <td>In which country do you currently live?</td>\n",
       "    </tr>\n",
       "    <tr>\n",
       "      <th>4</th>\n",
       "      <td>University</td>\n",
       "      <td>Are you currently enrolled in a formal, degree...</td>\n",
       "    </tr>\n",
       "    <tr>\n",
       "      <th>...</th>\n",
       "      <td>...</td>\n",
       "      <td>...</td>\n",
       "    </tr>\n",
       "    <tr>\n",
       "      <th>149</th>\n",
       "      <td>QuestionsInteresting</td>\n",
       "      <td>The questions were interesting</td>\n",
       "    </tr>\n",
       "    <tr>\n",
       "      <th>150</th>\n",
       "      <td>QuestionsConfusing</td>\n",
       "      <td>The questions were confusing</td>\n",
       "    </tr>\n",
       "    <tr>\n",
       "      <th>151</th>\n",
       "      <td>InterestedAnswers</td>\n",
       "      <td>I'm interested in learning how other developer...</td>\n",
       "    </tr>\n",
       "    <tr>\n",
       "      <th>152</th>\n",
       "      <td>Salary</td>\n",
       "      <td>What is your current annual base salary, befor...</td>\n",
       "    </tr>\n",
       "    <tr>\n",
       "      <th>153</th>\n",
       "      <td>ExpectedSalary</td>\n",
       "      <td>You said before that you are currently learnin...</td>\n",
       "    </tr>\n",
       "  </tbody>\n",
       "</table>\n",
       "<p>154 rows × 2 columns</p>\n",
       "</div>"
      ],
      "text/plain": [
       "                   Column                                           Question\n",
       "0              Respondent                               Respondent ID number\n",
       "1            Professional         Which of the following best describes you?\n",
       "2            ProgramHobby  Do you program as a hobby or contribute to ope...\n",
       "3                 Country            In which country do you currently live?\n",
       "4              University  Are you currently enrolled in a formal, degree...\n",
       "..                    ...                                                ...\n",
       "149  QuestionsInteresting                     The questions were interesting\n",
       "150    QuestionsConfusing                       The questions were confusing\n",
       "151     InterestedAnswers  I'm interested in learning how other developer...\n",
       "152                Salary  What is your current annual base salary, befor...\n",
       "153        ExpectedSalary  You said before that you are currently learnin...\n",
       "\n",
       "[154 rows x 2 columns]"
      ]
     },
     "execution_count": 4,
     "metadata": {},
     "output_type": "execute_result"
    }
   ],
   "source": [
    "e.schema"
   ]
  },
  {
   "cell_type": "code",
   "execution_count": 6,
   "id": "0e369392",
   "metadata": {},
   "outputs": [
    {
     "data": {
      "text/plain": [
       "\"Let's pretend you have a distant cousin. They are 24 years old, have a college degree in a field not related to computer programming, and have been working a non-coding job for the last two years. They want your advice on how to switch to a career as a software developer. Which of the following options would you most strongly recommend to your cousin?\\nLet's pretend you have a distant cousin named Robert. He is 24 years old, has a college degree in a field not related to computer programming, and has been working a non-coding job for the last two years. He wants your advice on how to switch to a career as a software developer. Which of the following options would you most strongly recommend to Robert?\\nLet's pretend you have a distant cousin named Alice. She is 24 years old, has a college degree in a field not related to computer programming, and has been working a non-coding job for the last two years. She wants your advice on how to switch to a career as a software developer. Which of the following options would you most strongly recommend to Alice?\""
      ]
     },
     "execution_count": 6,
     "metadata": {},
     "output_type": "execute_result"
    }
   ],
   "source": [
    "desc = list(e.schema[e.schema['Column'] =='CousinEducation' ]['Question'])[0]\n",
    "desc"
   ]
  },
  {
   "cell_type": "code",
   "execution_count": null,
   "id": "04f5b24d",
   "metadata": {},
   "outputs": [],
   "source": [
    "# 1/ \"How might I break into the field of software development?\"\n",
    "# this is our first question what are those those important industries suggest to help others break into the field\n",
    "df[df['']]['']\n",
    "\n",
    "study=df['CousinEducation'].value_counts().reset_index()\n",
    "study.rename(columns={'':'','':''},inplace=True)\n"
   ]
  }
 ],
 "metadata": {
  "kernelspec": {
   "display_name": "Python 3.9.7 ('base')",
   "language": "python",
   "name": "python3"
  },
  "language_info": {
   "codemirror_mode": {
    "name": "ipython",
    "version": 3
   },
   "file_extension": ".py",
   "mimetype": "text/x-python",
   "name": "python",
   "nbconvert_exporter": "python",
   "pygments_lexer": "ipython3",
   "version": "3.9.7"
  },
  "vscode": {
   "interpreter": {
    "hash": "9467c2c69cdaccf1fc0a47091afabf6719753440be990a725f6eae48976a1b98"
   }
  }
 },
 "nbformat": 4,
 "nbformat_minor": 5
}
